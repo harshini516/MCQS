{
 "cells": [
  {
   "cell_type": "code",
   "execution_count": 5,
   "id": "94d6574c-85da-43c1-a524-ab419d9bc5b7",
   "metadata": {},
   "outputs": [
    {
     "name": "stdout",
     "output_type": "stream",
     "text": [
      "Requirement already satisfied: folium in c:\\users\\hp\\anaconda3\\lib\\site-packages (0.19.5)\n",
      "Requirement already satisfied: branca>=0.6.0 in c:\\users\\hp\\anaconda3\\lib\\site-packages (from folium) (0.8.1)\n",
      "Requirement already satisfied: jinja2>=2.9 in c:\\users\\hp\\anaconda3\\lib\\site-packages (from folium) (3.1.4)\n",
      "Requirement already satisfied: numpy in c:\\users\\hp\\anaconda3\\lib\\site-packages (from folium) (1.26.4)\n",
      "Requirement already satisfied: requests in c:\\users\\hp\\anaconda3\\lib\\site-packages (from folium) (2.32.3)\n",
      "Requirement already satisfied: xyzservices in c:\\users\\hp\\anaconda3\\lib\\site-packages (from folium) (2022.9.0)\n",
      "Requirement already satisfied: MarkupSafe>=2.0 in c:\\users\\hp\\anaconda3\\lib\\site-packages (from jinja2>=2.9->folium) (2.1.3)\n",
      "Requirement already satisfied: charset-normalizer<4,>=2 in c:\\users\\hp\\anaconda3\\lib\\site-packages (from requests->folium) (3.3.2)\n",
      "Requirement already satisfied: idna<4,>=2.5 in c:\\users\\hp\\anaconda3\\lib\\site-packages (from requests->folium) (3.7)\n",
      "Requirement already satisfied: urllib3<3,>=1.21.1 in c:\\users\\hp\\anaconda3\\lib\\site-packages (from requests->folium) (2.2.3)\n",
      "Requirement already satisfied: certifi>=2017.4.17 in c:\\users\\hp\\anaconda3\\lib\\site-packages (from requests->folium) (2024.8.30)\n",
      "Requirement already satisfied: ipython in c:\\users\\hp\\anaconda3\\lib\\site-packages (8.27.0)\n",
      "Requirement already satisfied: decorator in c:\\users\\hp\\anaconda3\\lib\\site-packages (from ipython) (5.1.1)\n",
      "Requirement already satisfied: jedi>=0.16 in c:\\users\\hp\\anaconda3\\lib\\site-packages (from ipython) (0.19.1)\n",
      "Requirement already satisfied: matplotlib-inline in c:\\users\\hp\\anaconda3\\lib\\site-packages (from ipython) (0.1.6)\n",
      "Requirement already satisfied: prompt-toolkit<3.1.0,>=3.0.41 in c:\\users\\hp\\anaconda3\\lib\\site-packages (from ipython) (3.0.43)\n",
      "Requirement already satisfied: pygments>=2.4.0 in c:\\users\\hp\\anaconda3\\lib\\site-packages (from ipython) (2.15.1)\n",
      "Requirement already satisfied: stack-data in c:\\users\\hp\\anaconda3\\lib\\site-packages (from ipython) (0.2.0)\n",
      "Requirement already satisfied: traitlets>=5.13.0 in c:\\users\\hp\\anaconda3\\lib\\site-packages (from ipython) (5.14.3)\n",
      "Requirement already satisfied: colorama in c:\\users\\hp\\anaconda3\\lib\\site-packages (from ipython) (0.4.6)\n",
      "Requirement already satisfied: parso<0.9.0,>=0.8.3 in c:\\users\\hp\\anaconda3\\lib\\site-packages (from jedi>=0.16->ipython) (0.8.3)\n",
      "Requirement already satisfied: wcwidth in c:\\users\\hp\\anaconda3\\lib\\site-packages (from prompt-toolkit<3.1.0,>=3.0.41->ipython) (0.2.5)\n",
      "Requirement already satisfied: executing in c:\\users\\hp\\anaconda3\\lib\\site-packages (from stack-data->ipython) (0.8.3)\n",
      "Requirement already satisfied: asttokens in c:\\users\\hp\\anaconda3\\lib\\site-packages (from stack-data->ipython) (2.0.5)\n",
      "Requirement already satisfied: pure-eval in c:\\users\\hp\\anaconda3\\lib\\site-packages (from stack-data->ipython) (0.2.2)\n",
      "Requirement already satisfied: six in c:\\users\\hp\\anaconda3\\lib\\site-packages (from asttokens->stack-data->ipython) (1.16.0)\n"
     ]
    }
   ],
   "source": [
    "\n",
    "!pip install folium\n",
    "!pip install ipython\n"
   ]
  },
  {
   "cell_type": "code",
   "execution_count": 11,
   "id": "05cac565-4297-4a72-a0ea-7145daad74ac",
   "metadata": {},
   "outputs": [],
   "source": [
    "import pandas as pd\n",
    "\n",
    "\n",
    "zomato_df = pd.read_csv(r\"C:\\Users\\hp\\Downloads\\zomato_data.csv\")\n",
    "coords_df = pd.read_csv(r\"C:\\Users\\hp\\Downloads\\Geographical Coordinates.csv\") \n",
    "\n",
    "merged_df = pd.merge(\n",
    "    zomato_df,\n",
    "    coords_df,\n",
    "    left_on='listed_incity',\n",
    "    right_on='listed_incity',\n",
    "    how='left'\n",
    ")"
   ]
  },
  {
   "cell_type": "code",
   "execution_count": 13,
   "id": "f361b2dc-d108-4d40-ad15-f2ce1ece012a",
   "metadata": {},
   "outputs": [],
   "source": [
    "import folium\n",
    "from folium.plugins import MarkerCluster\n",
    "from IPython.display import IFrame"
   ]
  },
  {
   "cell_type": "code",
   "execution_count": 15,
   "id": "ed54b4c0-5b8b-409c-8a1a-aae9bcb06357",
   "metadata": {},
   "outputs": [],
   "source": [
    "m = folium.Map(location=[12.9716, 77.5946], zoom_start=12)"
   ]
  },
  {
   "cell_type": "code",
   "execution_count": 17,
   "id": "e11ae26c-cc3d-4fab-a6cf-0c9662a25fa5",
   "metadata": {},
   "outputs": [],
   "source": [
    "marker_cluster = MarkerCluster().add_to(m)"
   ]
  },
  {
   "cell_type": "code",
   "execution_count": 19,
   "id": "8ab442d7-a6d8-4baf-9adc-0bb641b8d61b",
   "metadata": {},
   "outputs": [],
   "source": [
    "for _, row in merged_df.iterrows():\n",
    "    if pd.notnull(row['Latitude']) and pd.notnull(row['Longitude']):\n",
    "        folium.Marker(\n",
    "            location=[row['Latitude'], row['Longitude']],\n",
    "            popup=(\n",
    "                f\"<b>City:</b> {row['listed_incity']}<br>\"\n",
    "                f\"<b>Rating:</b> {row['rate']}<br>\"\n",
    "                f\"<b>Cost for Two:</b> ₹{row['approx_costfor_two_people']}\"\n",
    "            ),\n",
    "            icon=folium.Icon(color='blue')\n",
    "        ).add_to(marker_cluster)"
   ]
  },
  {
   "cell_type": "code",
   "execution_count": null,
   "id": "8469d2c3-03cd-4694-89a1-52047c0dcb6d",
   "metadata": {},
   "outputs": [],
   "source": [
    "IFrame(\"restaurant_density.html\", width=800, height=500)"
   ]
  },
  {
   "cell_type": "code",
   "execution_count": null,
   "id": "d5db666d-c143-4ce4-836a-e2139ddcb4c0",
   "metadata": {},
   "outputs": [],
   "source": [
    "import pandas as pd\n",
    "import folium\n",
    "from folium.plugins import MarkerCluster\n",
    "\n",
    "zomato_df = pd.read_csv(r\"C:\\Users\\hp\\Downloads\\zomato_data.csv\")\n",
    "coords_df = pd.read_csv(r\"C:\\Users\\hp\\Downloads\\Geographical Coordinates.csv\")\n",
    "\n",
    "merged_df = pd.merge(\n",
    "    zomato_df,\n",
    "    coords_df,\n",
    "    left_on='listed_incity',\n",
    "    right_on='listed_incity',  \n",
    "    how='inner'\n",
    ")\n",
    "\n",
    "m = folium.Map(location=[12.9716, 77.5946], zoom_start=12)\n",
    "\n",
    "marker_cluster = MarkerCluster().add_to(m)\n",
    "\n",
    "for _, row in merged_df.iterrows():\n",
    "    if pd.notnull(row['Latitude']) and pd.notnull(row['Longitude']):\n",
    "        popup_text = f\"\"\"\n",
    "        City: {row['listed_incity']}<br>\n",
    "        Rating: {row['rate']}<br>\n",
    "        Cost for Two: {row['approx_costfor_two_people']}<br>\n",
    "        Cuisines: {row['cuisines']}\n",
    "        \"\"\"\n",
    "        folium.Marker(\n",
    "            location=[row['Latitude'], row['Longitude']],\n",
    "            popup=popup_text\n",
    "        ).add_to(marker_cluster)\n",
    "\n",
    "m.save(\"restaurant_density.html\")\n",
    "\n",
    "from IPython.display import IFrame\n",
    "IFrame(\"restaurant_density.html\", width=800, height=500)"
   ]
  },
  {
   "cell_type": "code",
   "execution_count": null,
   "id": "f88d1b69-47e7-4820-8bec-7dca2fd0ea64",
   "metadata": {},
   "outputs": [],
   "source": []
  },
  {
   "cell_type": "code",
   "execution_count": null,
   "id": "f605be01-a745-4eca-8030-d1950717c71a",
   "metadata": {},
   "outputs": [],
   "source": []
  }
 ],
 "metadata": {
  "kernelspec": {
   "display_name": "Python 3 (ipykernel)",
   "language": "python",
   "name": "python3"
  },
  "language_info": {
   "codemirror_mode": {
    "name": "ipython",
    "version": 3
   },
   "file_extension": ".py",
   "mimetype": "text/x-python",
   "name": "python",
   "nbconvert_exporter": "python",
   "pygments_lexer": "ipython3",
   "version": "3.12.7"
  }
 },
 "nbformat": 4,
 "nbformat_minor": 5
}
