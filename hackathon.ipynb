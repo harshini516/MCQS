{
 "cells": [
  {
   "cell_type": "code",
   "execution_count": 12,
   "id": "ea291e9e-90e7-434a-a288-78f063324cae",
   "metadata": {},
   "outputs": [
    {
     "name": "stdout",
     "output_type": "stream",
     "text": [
      "The shape of the dataset is (51717, 10)\n"
     ]
    }
   ],
   "source": [
    "#1\n",
    "import pandas as pd\n",
    "df = pd.read_csv(r\"C:\\Users\\hp\\Downloads\\zomato_data.csv\")  \n",
    "shape = df.shape\n",
    "print(f\"The shape of the dataset is {shape}\")\n"
   ]
  },
  {
   "cell_type": "code",
   "execution_count": 21,
   "id": "f2c88d52-ba71-4ab7-a21b-1cdb0d56c4f8",
   "metadata": {},
   "outputs": [
    {
     "name": "stdout",
     "output_type": "stream",
     "text": [
      "Number of restaurants serving North Indian cuisine: 21085\n"
     ]
    }
   ],
   "source": [
    "#2\n",
    "import pandas as pd\n",
    "df = pd.read_csv(r\"C:\\Users\\hp\\Downloads\\zomato_data.csv\")\n",
    "north_indian_restaurants = df[df['cuisines'].str.contains('North Indian', case=False, na=False)]\n",
    "count = len(north_indian_restaurants)\n",
    "print(f\"Number of restaurants serving North Indian cuisine: {count}\")"
   ]
  },
  {
   "cell_type": "code",
   "execution_count": 27,
   "id": "cf96f309-006d-4e33-ac12-6c3a27e12788",
   "metadata": {},
   "outputs": [
    {
     "name": "stdout",
     "output_type": "stream",
     "text": [
      "[('North Indian', 21085)]\n"
     ]
    }
   ],
   "source": [
    "#3\n",
    "from collections import Counter\n",
    "cuisine_list = df['cuisines'].dropna().str.split(', ')\n",
    "cuisine_counts = Counter([cuisine for sublist in cuisine_list for cuisine in sublist])\n",
    "most_common_cuisine = cuisine_counts.most_common(1)\n",
    "print(most_common_cuisine)"
   ]
  },
  {
   "cell_type": "code",
   "execution_count": 37,
   "id": "37c54e29-dc5c-4285-bf20-0b9eb4c24001",
   "metadata": {},
   "outputs": [
    {
     "name": "stdout",
     "output_type": "stream",
     "text": [
      "Church Street\n"
     ]
    }
   ],
   "source": [
    "#4\n",
    "df['approx_costfor_two_people'] = df['approx_costfor_two_people'].astype(str).str.replace(',', '')\n",
    "df['approx_costfor_two_people'] = pd.to_numeric(df['approx_costfor_two_people'], errors='coerce')\n",
    "highest_avg_cost = df.groupby('listed_incity')['approx_costfor_two_people'].mean().idxmax()\n",
    "print(highest_avg_cost)"
   ]
  },
  {
   "cell_type": "code",
   "execution_count": 39,
   "id": "7d258242-0e25-4651-af94-476a7c65bc4d",
   "metadata": {},
   "outputs": [
    {
     "name": "stdout",
     "output_type": "stream",
     "text": [
      "rest_type\n",
      "Bakery    4.8\n",
      "Name: rate, dtype: float64\n"
     ]
    }
   ],
   "source": [
    "#5\n",
    "df['rate'] = df['rate'].astype(str)\n",
    "df['rate'] = df['rate'].str.extract(r'(\\d+\\.\\d+)').astype(float)\n",
    "high_votes = df[df['votes'] > 1000]\n",
    "top_rated = high_votes.groupby('rest_type')['rate'].mean().sort_values(ascending=False)\n",
    "print(top_rated.head(1))"
   ]
  },
  {
   "cell_type": "code",
   "execution_count": 55,
   "id": "3f4c2f43-5106-4aa6-9605-6d764f714b6d",
   "metadata": {},
   "outputs": [
    {
     "name": "stdout",
     "output_type": "stream",
     "text": [
      "Average cost difference (Buffet vs Delivery): ₹ 842\n"
     ]
    }
   ],
   "source": [
    "#10\n",
    "buffet_avg = df[df['listed_intype'] == 'Buffet']['approx_costfor_two_people'].mean()\n",
    "delivery_avg = df[df['listed_intype'] == 'Delivery']['approx_costfor_two_people'].mean()\n",
    "cost_diff = abs(buffet_avg - delivery_avg)\n",
    "print(\"Average cost difference (Buffet vs Delivery): ₹\", int(cost_diff))"
   ]
  },
  {
   "cell_type": "code",
   "execution_count": 57,
   "id": "2eaa63d8-3202-4fbc-b13a-6dc8510cb905",
   "metadata": {},
   "outputs": [
    {
     "name": "stdout",
     "output_type": "stream",
     "text": [
      "Q11: Max votes (online order): 16832\n"
     ]
    }
   ],
   "source": [
    "#11\n",
    "max_votes_online = df[df['online_order'] == 'Yes']['votes'].max()\n",
    "print(\"Max votes (online order):\", max_votes_online)"
   ]
  },
  {
   "cell_type": "code",
   "execution_count": 59,
   "id": "5b3da5f9-65df-411d-bce2-8f7ac85a8ada",
   "metadata": {},
   "outputs": [
    {
     "name": "stdout",
     "output_type": "stream",
     "text": [
      "Avg ratingNorth Indian + Chinese: 3.57\n"
     ]
    }
   ],
   "source": [
    "#12\n",
    "both_cuisines = df[\n",
    "    df['cuisines'].str.contains('North Indian', na=False) & \n",
    "    df['cuisines'].str.contains('Chinese', na=False)\n",
    "]\n",
    "avg_rate_both = round(both_cuisines['rate'].mean(), 2)\n",
    "print(\"Avg ratingNorth Indian + Chinese:\", avg_rate_both)"
   ]
  },
  {
   "cell_type": "code",
   "execution_count": 67,
   "id": "b1824ba1-0f06-4d0d-8dab-e7726e9c512f",
   "metadata": {},
   "outputs": [],
   "source": [
    "#13\n",
    "df['approx_costfor_two_people'] = df['approx_costfor_two_people'].replace({',': '', '₹': ''}, regex=True).astype(float)"
   ]
  },
  {
   "cell_type": "code",
   "execution_count": 71,
   "id": "9985b6da-b2bc-4034-a5b6-af096a4d1355",
   "metadata": {},
   "outputs": [],
   "source": [
    "df['revenue'] = df['approx_costfor_two_people'] * df['votes']"
   ]
  },
  {
   "cell_type": "code",
   "execution_count": 73,
   "id": "2b9c0bef-6f70-4c3e-b9c2-e9576183e302",
   "metadata": {},
   "outputs": [
    {
     "name": "stdout",
     "output_type": "stream",
     "text": [
      "listed_incity\n",
      "Koramangala 7th Block    1.001584e+09\n",
      "Name: revenue, dtype: float64\n"
     ]
    }
   ],
   "source": [
    "revenue_by_location = df.groupby('listed_incity')['revenue'].sum().sort_values(ascending=False)\n",
    "print(revenue_by_location.head(1))"
   ]
  },
  {
   "cell_type": "code",
   "execution_count": 81,
   "id": "e787dbb5-961d-458e-93d1-074420ab15fa",
   "metadata": {},
   "outputs": [
    {
     "name": "stdout",
     "output_type": "stream",
     "text": [
      "Q14: Focus area (lowest rated type): Dessert Parlor, Kiosk\n"
     ]
    }
   ],
   "source": [
    "#14\n",
    "df['rate'] = df['rate'].astype(str).str.extract(r'(\\d+\\.\\d+)')\n",
    "df['rate'] = pd.to_numeric(df['rate'], errors='coerce')\n",
    "avg_rating_by_type = df.groupby('rest_type')['rate'].mean()\n",
    "lowest_rated_type = avg_rating_by_type.idxmin()\n",
    "print(\"Q14: Focus area (lowest rated type):\", lowest_rated_type)"
   ]
  },
  {
   "cell_type": "code",
   "execution_count": 85,
   "id": "91518def-3035-46d1-9b3c-38e48d7a9be3",
   "metadata": {},
   "outputs": [
    {
     "name": "stdout",
     "output_type": "stream",
     "text": [
      "Locality with most such restaurants: Brookefield\n"
     ]
    }
   ],
   "source": [
    "#8\n",
    "filtered_df = df[(df['votes'] > 500) & (df['rate'] < 3.0)]\n",
    "top_locality = filtered_df['listed_incity'].value_counts().idxmax()\n",
    "print(\"Locality with most such restaurants:\", top_locality)"
   ]
  },
  {
   "cell_type": "code",
   "execution_count": 89,
   "id": "7db85c34-3afa-4162-88fd-8e8526a0e0a5",
   "metadata": {},
   "outputs": [
    {
     "name": "stdout",
     "output_type": "stream",
     "text": [
      "ocality with most diverse restaurant types: BTM\n"
     ]
    }
   ],
   "source": [
    "#9\n",
    "rest_type_diversity = df.groupby('listed_incity')['rest_type'].nunique()\n",
    "most_diverse = rest_type_diversity.idxmax()\n",
    "print(\"ocality with most diverse restaurant types:\", most_diverse)"
   ]
  },
  {
   "cell_type": "code",
   "execution_count": 91,
   "id": "9f9a1de3-8bd8-40a3-9693-e6fec2892cd0",
   "metadata": {},
   "outputs": [
    {
     "name": "stdout",
     "output_type": "stream",
     "text": [
      "Top location for investment: Koramangala 7th Block\n"
     ]
    }
   ],
   "source": [
    "#15\n",
    "import pandas as pd\n",
    "df = pd.read_csv(r\"C:\\Users\\hp\\Downloads\\zomato_data.csv\")\n",
    "df['rate'] = df['rate'].astype(str).str.extract(r'(\\d+\\.\\d+)')\n",
    "df['rate'] = pd.to_numeric(df['rate'], errors='coerce')\n",
    "df['approx_costfor_two_people'] = df['approx_costfor_two_people'].astype(str).str.replace(',', '')\n",
    "df['approx_costfor_two_people'] = pd.to_numeric(df['approx_costfor_two_people'], errors='coerce')\n",
    "filtered_df = df[\n",
    "    (df['rate'] > 4.2) &\n",
    "    (df['votes'] > 500) &\n",
    "    (df['online_order'].str.lower() == 'yes')\n",
    "]\n",
    "location_counts = filtered_df['listed_incity'].value_counts()\n",
    "top_location = location_counts.idxmax()\n",
    "print(\"Top location for investment:\", top_location)"
   ]
  },
  {
   "cell_type": "code",
   "execution_count": null,
   "id": "41c3fc83-bb1a-472a-9d50-9ff47e75de6e",
   "metadata": {},
   "outputs": [],
   "source": []
  }
 ],
 "metadata": {
  "kernelspec": {
   "display_name": "Python 3 (ipykernel)",
   "language": "python",
   "name": "python3"
  },
  "language_info": {
   "codemirror_mode": {
    "name": "ipython",
    "version": 3
   },
   "file_extension": ".py",
   "mimetype": "text/x-python",
   "name": "python",
   "nbconvert_exporter": "python",
   "pygments_lexer": "ipython3",
   "version": "3.12.7"
  }
 },
 "nbformat": 4,
 "nbformat_minor": 5
}
